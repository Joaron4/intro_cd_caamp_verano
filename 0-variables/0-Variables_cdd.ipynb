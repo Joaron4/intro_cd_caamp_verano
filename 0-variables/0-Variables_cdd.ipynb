{
 "cells": [
  {
   "cell_type": "code",
   "execution_count": null,
   "metadata": {
    "deletable": false,
    "editable": false
   },
   "outputs": [],
   "source": [
    "# Initialize Otter\n",
    "import otter\n",
    "grader = otter.Notebook(\"0-Variables_cdd.ipynb\")"
   ]
  },
  {
   "cell_type": "markdown",
   "metadata": {},
   "source": [
    "<img src = 'https://raw.githubusercontent.com/Delarbol/semillero/master/Banner%20DS.png'>\n",
    "<h1 align=center style=\"font-size:3vw\">Introducción a la Programación con Python</h1>\n",
    "<h2 align=center>Educación Continua</h2>\n",
    "<h2 align=center>José Joaquín Rondón Rubiano</h2>"
   ]
  },
  {
   "attachments": {
    "image.png": {
     "image/png": "[encoded data removed]"
    }
   },
   "cell_type": "markdown",
   "metadata": {},
   "source": [
    "![image.png](attachment:image.png)"
   ]
  },
  {
   "cell_type": "markdown",
   "metadata": {},
   "source": [
    "# Introducción\n",
    "\n",
    "El entorno de Jupyter Notebook es muy útil para el aprendizaje porque permite en un mismo lugar, tener anotaciones y distintos bloques de código que se puede ejecutar en el mismo lugar.\\\n",
    "Las anotaciones se realizan en celdas de tipo **Markdown**, mientras que el código va en celdas tipo código. Esto lo puede mirar en la parte superior donde aparece un menú desplegable.\n",
    "\n",
    "Después de haber visto en términos generales el funcionamiento de un PC, ahora realizaremos nuestro primer programa en Python. Tradicionalmente, empezaremos por hacer que el programa nos muestre la frase \"Hola Mundo!\"\\\n",
    "Para esto, simplemente debe anotar en una celda de código estas instrucciones:\n",
    "\n",
    "```python\n",
    "print('Hola Mundo!')\n",
    "```\n",
    "Note que hacemos uso de la función print, que nos muestra en pantalla lo que se encuentre entre paréntesis y que utilizamos comillas para indicar que se trata de texto o cadenas de caracteres."
   ]
  },
  {
   "cell_type": "markdown",
   "metadata": {},
   "source": [
    "------------------"
   ]
  },
  {
   "cell_type": "code",
   "execution_count": null,
   "metadata": {
    "scrolled": true
   },
   "outputs": [],
   "source": [
    "#Realice acá su programa.\n",
    "print(\"Hola mundo!! \")"
   ]
  },
  {
   "cell_type": "markdown",
   "metadata": {},
   "source": [
    "Aquí estamos haciendo el primer programa."
   ]
  },
  {
   "cell_type": "markdown",
   "metadata": {},
   "source": [
    "Ahora vamos a aprender a correr un script de Python desde la consola. Para esto, simplemente debemos copiar el contenido de la celda anterior en un archivo de texto y guardarlo con la extensión '*.py'"
   ]
  },
  {
   "cell_type": "markdown",
   "metadata": {},
   "source": [
    "Bien! Ahora que sabemos correr nuestro programa, vamos a aprender más sobre un elemento esencial en cualquier lenguaje de programación. Las variables."
   ]
  },
  {
   "cell_type": "markdown",
   "metadata": {},
   "source": [
    "# Variables, expresiones y “órdenes”\n",
    "## Objetivos"
   ]
  },
  {
   "cell_type": "markdown",
   "metadata": {},
   "source": [
    "1. Entender el concepto de variable y la importancia de un buen nombre\n",
    "2. Entender el concepto de “asignación”.\n",
    "3. Comprender qué son las expresiones y el orden de prelación.\n",
    "4. Conocer la existencia de distintos tipos (Type) y conversiones.\n",
    "5. Recibir inputs del usuario.\n",
    "6. Entender cómo hacer comentarios al código."
   ]
  },
  {
   "cell_type": "markdown",
   "metadata": {},
   "source": [
    "## Constantes\n",
    "* Valores fijos como números, letras y cadenas (strings) se llaman “constantes” porque su valor no cambia\n",
    "* Constantes numéricas son como uno esperaría\n",
    "* Constantes de cadena utilizan una comilla sencilla (‘) o doble (\")\n"
   ]
  },
  {
   "cell_type": "code",
   "execution_count": null,
   "metadata": {},
   "outputs": [],
   "source": [
    "print(118)"
   ]
  },
  {
   "cell_type": "code",
   "execution_count": null,
   "metadata": {},
   "outputs": [],
   "source": [
    "print(98.6)"
   ]
  },
  {
   "cell_type": "code",
   "execution_count": null,
   "metadata": {},
   "outputs": [],
   "source": [
    "print('Quiero programar')"
   ]
  },
  {
   "cell_type": "markdown",
   "metadata": {},
   "source": [
    "## Estas son las palabras reservadas\n",
    "\n",
    "|      |      |       |     |         |\n",
    "|:--------|:--------|:--------|:--------|:----------|\n",
    "| False  | class  | return | is     | finally  |\n",
    "| None   | if     | for    | lambda | continue |\n",
    "| True   | def    | from   | while  | nonlocal |\n",
    "| and    | del    | global | not    | with     |\n",
    "| as     | elif   | try    | or     | yield    |\n",
    "| assert | else   | import | pass   |          |\n",
    "| break  | except | in     | raise  |          |"
   ]
  },
  {
   "cell_type": "code",
   "execution_count": null,
   "metadata": {},
   "outputs": [],
   "source": []
  },
  {
   "cell_type": "markdown",
   "metadata": {},
   "source": [
    "# Variables\n",
    "* Una variable es un pedazo de la memoria donde se puede almacenar información usando su “nombre”.\n",
    "* El nombre de las variables lo elige el programador.\n",
    "* El contenido de una variable se puede cambiar con posterioridad."
   ]
  },
  {
   "cell_type": "code",
   "execution_count": null,
   "metadata": {},
   "outputs": [],
   "source": [
    "x = 40.2\n",
    "y = 18"
   ]
  },
  {
   "cell_type": "code",
   "execution_count": null,
   "metadata": {},
   "outputs": [],
   "source": [
    "print(x)"
   ]
  },
  {
   "cell_type": "code",
   "execution_count": null,
   "metadata": {},
   "outputs": [],
   "source": [
    "x = 100"
   ]
  },
  {
   "cell_type": "code",
   "execution_count": null,
   "metadata": {
    "scrolled": true
   },
   "outputs": [],
   "source": [
    "print(x)"
   ]
  },
  {
   "cell_type": "code",
   "execution_count": null,
   "metadata": {},
   "outputs": [],
   "source": [
    "y"
   ]
  },
  {
   "cell_type": "markdown",
   "metadata": {},
   "source": [
    "## Reglas para los nombres\n",
    "* Empezar con una letra o un guión bajo _ \n",
    "* Debe consistir en letras, números y guiones bajos\n",
    "* Distingue mayúsculas de minúsculas"
   ]
  },
  {
   "cell_type": "markdown",
   "metadata": {},
   "source": [
    "    Bien:    spam    eggs   spam23    _speed\n",
    "    Mal:     23spam     #sign  var.12\n",
    "    Son diferentes:    spam   Spam   SPAM\n"
   ]
  },
  {
   "cell_type": "markdown",
   "metadata": {},
   "source": [
    "<br>\n",
    "<br>\n",
    "<br>\n",
    "<br>\n",
    "<br>\n"
   ]
  },
  {
   "cell_type": "markdown",
   "metadata": {},
   "source": [
    "### Ejercicio:\n",
    "\n",
    "¿Cuáles de las siguientes variables tienen nombres válidos?\n",
    "\n",
    "(a) ____resultado\n",
    "\n",
    "(b) SuMaToRiA\n",
    "\n",
    "(c) 2020rocks \n",
    "\n",
    "(d) Todas las anteriores\n",
    "\n",
    "\n",
    "\n",
    "**Respuesta.  a y b**\n"
   ]
  },
  {
   "cell_type": "markdown",
   "metadata": {},
   "source": [
    "<br>\n",
    "<br>\n",
    "<br>\n",
    "<br>\n",
    "<br>\n"
   ]
  },
  {
   "cell_type": "markdown",
   "metadata": {},
   "source": [
    "## Nombres de variables mnemotécnicos\n",
    "* Como programadores podemos escoger los nombres de las variables, pero hay “buenas prácticas”\n",
    "* Las variables deben tener nombres que ayuden a saber lo que contienen\n",
    "* Esto puede ser confuso porque uno puede creer que las palabras utilizadas significan algo\n"
   ]
  },
  {
   "cell_type": "code",
   "execution_count": null,
   "metadata": {},
   "outputs": [],
   "source": [
    "x1q3z9ocd = 35.0 \n",
    "x1q3z9afd = 12.50\n",
    "x1q3p9afd = x1q3z9ocd * x1q3z9afd\n",
    "print(x1q3p9afd)"
   ]
  },
  {
   "cell_type": "code",
   "execution_count": null,
   "metadata": {},
   "outputs": [],
   "source": [
    "a = 35.0 \n",
    "b = 12.50 \n",
    "c = a * b \n",
    "print(c)"
   ]
  },
  {
   "cell_type": "code",
   "execution_count": null,
   "metadata": {},
   "outputs": [],
   "source": [
    "horas = 35.0 \n",
    "tarifa = 12.50 \n",
    "pago = horas * tarifa \n",
    "print(pago)"
   ]
  },
  {
   "cell_type": "markdown",
   "metadata": {},
   "source": [
    "Python se ejecuta por líneas, de arriba a abajo y de izquierda a derecha."
   ]
  },
  {
   "cell_type": "code",
   "execution_count": null,
   "metadata": {
    "scrolled": true
   },
   "outputs": [],
   "source": [
    "x = 2\n",
    "print(x)\n",
    "x = x + 2\n",
    "print(x)"
   ]
  },
  {
   "cell_type": "code",
   "execution_count": null,
   "metadata": {},
   "outputs": [],
   "source": [
    "x = x + 2\n",
    "print(x)"
   ]
  },
  {
   "cell_type": "markdown",
   "metadata": {},
   "source": [
    "<br>\n",
    "<br>\n",
    "<br>\n",
    "<br>\n",
    "<br>\n"
   ]
  },
  {
   "cell_type": "markdown",
   "metadata": {},
   "source": [
    "## Órdenes de asignación\n",
    "\n",
    "* Se asigna un valor a una variable haciendo uso de la orden de asignación (=)\n",
    "* Una orden de asignación tiene una expresión al lado derecho y una variable para almacenar el resultado.\n",
    "\n",
    "```python\n",
    "    x = 3.9 * x * ( 1 - x )\n",
    "```\n"
   ]
  },
  {
   "cell_type": "markdown",
   "metadata": {},
   "source": [
    "Una variable es una ubicación de memoria usada para almacenar un valor (0.6)\\\n",
    "El lado derecho es una expresión. Luego de evaluar la expresión, el resultado se almacena (asigna) en x.\n"
   ]
  },
  {
   "cell_type": "code",
   "execution_count": null,
   "metadata": {},
   "outputs": [],
   "source": [
    "x = 0.6\n",
    "x = 3.9 * x * ( 1 - x )"
   ]
  },
  {
   "cell_type": "code",
   "execution_count": null,
   "metadata": {},
   "outputs": [],
   "source": [
    "x"
   ]
  },
  {
   "cell_type": "code",
   "execution_count": null,
   "metadata": {},
   "outputs": [],
   "source": [
    "x = 3.9 * x * ( 1 - x )"
   ]
  },
  {
   "cell_type": "code",
   "execution_count": null,
   "metadata": {},
   "outputs": [],
   "source": [
    "x"
   ]
  },
  {
   "cell_type": "markdown",
   "metadata": {},
   "source": [
    "## Expresiones numéricas\n",
    "* Se usan los símbolos disponibles en un PC para las operaciones matemáticas\n",
    "* Se usa el asterisco para multiplicar\n",
    "* La potenciación es distinto al símbolo matemático (^)\n",
    "\n",
    "|     Operador    |        Operación      |\n",
    "|:---------------:|:---------------------:|\n",
    "|         +       |          Suma         |\n",
    "|         -       |          Resta        |\n",
    "|         *       |     Multiplicación    |\n",
    "|         /       |        División       |\n",
    "|        **       |        Potencia       |\n",
    "|         %       |         Residuo       |"
   ]
  },
  {
   "cell_type": "code",
   "execution_count": null,
   "metadata": {},
   "outputs": [],
   "source": [
    "xx = 2\n",
    "xx = xx + 2\n",
    "print(xx)\n",
    "#4\n"
   ]
  },
  {
   "cell_type": "code",
   "execution_count": null,
   "metadata": {},
   "outputs": [],
   "source": [
    "yy = 440 * 12\n",
    "print(yy)\n",
    "#5280\n"
   ]
  },
  {
   "cell_type": "code",
   "execution_count": null,
   "metadata": {},
   "outputs": [],
   "source": [
    "zz = yy / 1000\n",
    "print(zz)\n"
   ]
  },
  {
   "cell_type": "code",
   "execution_count": null,
   "metadata": {},
   "outputs": [],
   "source": [
    "jj = 23\n",
    "kk = jj % 5\n",
    "print(kk)\n",
    "#3"
   ]
  },
  {
   "cell_type": "code",
   "execution_count": null,
   "metadata": {
    "scrolled": true
   },
   "outputs": [],
   "source": [
    "print(4 ** 3)"
   ]
  },
  {
   "cell_type": "code",
   "execution_count": null,
   "metadata": {
    "scrolled": true
   },
   "outputs": [],
   "source": [
    "zz = yy // 1000\n",
    "print(zz)"
   ]
  },
  {
   "cell_type": "code",
   "execution_count": null,
   "metadata": {},
   "outputs": [],
   "source": [
    "23//5"
   ]
  },
  {
   "cell_type": "markdown",
   "metadata": {},
   "source": [
    "<br>\n",
    "<br>\n",
    "<br>\n",
    "<br>\n",
    "<br>\n"
   ]
  },
  {
   "cell_type": "markdown",
   "metadata": {},
   "source": [
    "## Orden de la evaluación\n",
    "* Al encadenar operadores - Python debe saber cuál hacer primero.\n",
    "* Esto se llama “precedencia de operadores”\n",
    "* ¿Cuál operador “tiene precedencia” sobre los otros?\n",
    "```python\n",
    "    8 / 2 * (2 + 2) = ?\n",
    "```\n"
   ]
  },
  {
   "cell_type": "markdown",
   "metadata": {},
   "source": [
    "8 / 2 * (2 + 2)"
   ]
  },
  {
   "cell_type": "code",
   "execution_count": null,
   "metadata": {},
   "outputs": [],
   "source": [
    "x = 1 + 2 * 3 - 4 / 5 ** 6\n",
    "x"
   ]
  },
  {
   "cell_type": "markdown",
   "metadata": {},
   "source": [
    "<br>\n",
    "<br>\n",
    "<br>\n",
    "<br>\n",
    "<br>\n"
   ]
  },
  {
   "cell_type": "markdown",
   "metadata": {},
   "source": [
    "## Reglas de precedencia\n",
    "### De arriba a bajo en orden de jerarquía:\n",
    "* Paréntesis\n",
    "* Potenciación\n",
    "* Multiplicación, división y residuo\n",
    "* Suma y resta\n",
    "* De izquierda a derecha"
   ]
  },
  {
   "cell_type": "code",
   "execution_count": null,
   "metadata": {},
   "outputs": [],
   "source": [
    "x = 1 + 2 ** 3 / 4 * 5\n",
    "print(x)"
   ]
  },
  {
   "attachments": {
    "image.png": {
     "image/png": "[encoded data removed]"
    }
   },
   "cell_type": "markdown",
   "metadata": {},
   "source": [
    "![image.png](attachment:image.png)"
   ]
  },
  {
   "cell_type": "markdown",
   "metadata": {},
   "source": [
    "# Precedencia\n",
    "\n",
    "* Reglas de arriba a abajo\n",
    "* Al escribir código – usar paréntesis\n",
    "* Mantener las expresiones matemáticas lo suficientemente simples para que se puedan entender\n",
    "* Dividir operaciones matemáticas largas para que sean más claras"
   ]
  },
  {
   "cell_type": "markdown",
   "metadata": {},
   "source": [
    "### Ejercicio:\n",
    "\n",
    "12 - 3 * 4 / 2 * 5 + 10\n",
    "\n",
    "¿Cuál sería la mejor forma de escribir esta expresión?\n",
    "\n",
    "**Respuesta.**\n",
    "\n",
    "12 - 3 * 4 / 2 * 5 + 10\n",
    "\n",
    "12- ((3 * 4)/(2 * 5)) + 10\n"
   ]
  },
  {
   "cell_type": "code",
   "execution_count": null,
   "metadata": {
    "scrolled": true
   },
   "outputs": [],
   "source": [
    "12 - 3 * 4 / 2 * 5 + 10"
   ]
  },
  {
   "cell_type": "code",
   "execution_count": null,
   "metadata": {},
   "outputs": [],
   "source": [
    "12- ((3 * 4)/(2 * 5)) + 10"
   ]
  },
  {
   "cell_type": "code",
   "execution_count": null,
   "metadata": {},
   "outputs": [],
   "source": [
    "12-(((3 * 4)/2) * 5)+10"
   ]
  },
  {
   "cell_type": "markdown",
   "metadata": {},
   "source": [
    "-----"
   ]
  },
  {
   "cell_type": "markdown",
   "metadata": {},
   "source": [
    "## ¿Qué significa “Type”?\n",
    "* En Python las variables, literales, y constantes tienen un “tipo”\n",
    "* Python conoce la diferencia entre un entero (int) y una cadena de caracteres (string)\n",
    "* Los operadores funcionan diferente dependiendo del tipo\n",
    "* Por ejemplo “+” significa “suma” si algo es un número y “concatenar” si algo es una cadena de caracteres (string)\n"
   ]
  },
  {
   "cell_type": "code",
   "execution_count": null,
   "metadata": {},
   "outputs": [],
   "source": [
    "ddd = 1 + 4\n",
    "print(ddd)\n",
    "#5\n"
   ]
  },
  {
   "cell_type": "code",
   "execution_count": null,
   "metadata": {
    "scrolled": true
   },
   "outputs": [],
   "source": [
    "eee = 'hola' + 'todos'\n",
    "print(eee)\n",
    "#hola todos"
   ]
  },
  {
   "cell_type": "code",
   "execution_count": null,
   "metadata": {
    "scrolled": true
   },
   "outputs": [],
   "source": [
    "a = 'hola'\n",
    "b = 'todos'\n",
    "print(a,b)\n",
    "print(a+b)"
   ]
  },
  {
   "cell_type": "code",
   "execution_count": null,
   "metadata": {},
   "outputs": [],
   "source": [
    "iii = 'Hola'\n",
    "jjj = 5\n",
    "print(iii*jjj)"
   ]
  },
  {
   "cell_type": "markdown",
   "metadata": {},
   "source": [
    "## El tipo (Type) es importante\n",
    "* Python conoce el “type” de todo\n",
    "* Algunas operaciones no están permitidas\n",
    "* No podemos “sumar 1” a una cadena\n",
    "* Podemos preguntarle a Python el tipo de un objeto con la función type()"
   ]
  },
  {
   "cell_type": "code",
   "execution_count": null,
   "metadata": {
    "scrolled": true
   },
   "outputs": [],
   "source": []
  },
  {
   "cell_type": "code",
   "execution_count": null,
   "metadata": {},
   "outputs": [],
   "source": [
    "eee"
   ]
  },
  {
   "cell_type": "code",
   "execution_count": null,
   "metadata": {},
   "outputs": [],
   "source": [
    "print(type(eee))\n",
    "#<class'str'>\n"
   ]
  },
  {
   "cell_type": "code",
   "execution_count": null,
   "metadata": {},
   "outputs": [],
   "source": [
    "type('hello')\n",
    "#<class'str'>"
   ]
  },
  {
   "cell_type": "code",
   "execution_count": null,
   "metadata": {},
   "outputs": [],
   "source": [
    "type(1)\n",
    "#<class'int'>"
   ]
  },
  {
   "cell_type": "markdown",
   "metadata": {},
   "source": [
    "----\n",
    "## Varios tipos de números\n",
    "Hay dos tipos de números principales:\n",
    "-  Integers que son números enteros:    -14, -2, 0, 1, 100, 401233\n",
    "-  Floating Point Numbers que son los que tienen decimales:  -2.5 , 0.0, 98.6, 14.0\n",
    "\n",
    "Hay otros tipos como los complejos, que son un caso especial, pero que no vamos a usar.\n",
    "\n",
    "\n",
    "<br>\n",
    "<br>\n",
    "<br>\n",
    "\n",
    "## Conversiones de tipo\n",
    "* Si se pone un entero y un float en una expresión, el entero se convierte implícitamente en un float\n",
    "* Se puede controlar esto con las funciones int() y float()\n",
    "```python\n",
    ">>> print(float(99) + 100)\n",
    "199.0\n",
    ">>> i = 42\n",
    ">>> type(i)\n",
    "<class'int'>\n",
    ">>> f = float(i)\n",
    ">>> print(f)\n",
    "42.0\n",
    ">>> type(f)\n",
    "<class'float'>\n",
    ">>> \n",
    "```"
   ]
  },
  {
   "cell_type": "code",
   "execution_count": null,
   "metadata": {},
   "outputs": [],
   "source": [
    "print(type(20.3))"
   ]
  },
  {
   "cell_type": "markdown",
   "metadata": {},
   "source": [
    "## Divisiones de enteros\n",
    "Las divisiones de enteros dan como resultado un float\n"
   ]
  },
  {
   "cell_type": "code",
   "execution_count": null,
   "metadata": {
    "scrolled": true
   },
   "outputs": [],
   "source": [
    "print(10 / 2) \n",
    "#5.0\n",
    "print(9 / 2) \n",
    "#4.5\n",
    "print(99 / 100) \n",
    "#0.99\n",
    "print(10.0 / 2.0) \n",
    "#5.0\n",
    "print(99.0 / 100.0) \n",
    "#0.99\n"
   ]
  },
  {
   "cell_type": "markdown",
   "metadata": {},
   "source": [
    "<br>\n",
    "<br>\n",
    "<br>\n",
    "<br>\n",
    "<br>\n"
   ]
  },
  {
   "cell_type": "markdown",
   "metadata": {},
   "source": [
    "## Conversión de cadenas (string)\n",
    "* Se puede usar `int()` y `float()` para convertir cadenas a números\n",
    "* Habrá un error si la cadena no contiene caracteres numéricos"
   ]
  },
  {
   "cell_type": "code",
   "execution_count": null,
   "metadata": {},
   "outputs": [],
   "source": []
  },
  {
   "cell_type": "code",
   "execution_count": null,
   "metadata": {},
   "outputs": [],
   "source": [
    "\n",
    "\n"
   ]
  },
  {
   "cell_type": "code",
   "execution_count": null,
   "metadata": {},
   "outputs": [],
   "source": [
    "ival"
   ]
  },
  {
   "cell_type": "markdown",
   "metadata": {},
   "source": [
    "## Input de usuario\n",
    "\n",
    "- Se le puede pedir a Python que haga una pausa y lea datos del usuario usando la función `input()`\n",
    "- La función <code>input()</code> devuelve una cadena de caracteres"
   ]
  },
  {
   "cell_type": "code",
   "execution_count": null,
   "metadata": {},
   "outputs": [],
   "source": []
  },
  {
   "cell_type": "code",
   "execution_count": null,
   "metadata": {
    "scrolled": true
   },
   "outputs": [],
   "source": []
  },
  {
   "cell_type": "code",
   "execution_count": null,
   "metadata": {},
   "outputs": [],
   "source": []
  },
  {
   "attachments": {
    "image.png": {
     "image/png": "[encoded data removed]"
    }
   },
   "cell_type": "markdown",
   "metadata": {},
   "source": [
    "## Convirtiendo el Input del usuario\n",
    "* Si queremos leer un número que haya ingresado el usuario, hay que convertirlo primero de cadena de caracteres a número con las funciones de conversión\n",
    "* Más adelante veremos cómo lidiar con errores por parte del usuario\n",
    "\n",
    "![image.png](attachment:image.png)"
   ]
  },
  {
   "cell_type": "markdown",
   "metadata": {},
   "source": [
    "```python                                                \n",
    "                                                inp = input('Piso en Europa?')\n",
    "                                                colf = int(inp) + 1\n",
    "                                                print('Piso acá', colf)\n",
    "```"
   ]
  },
  {
   "cell_type": "code",
   "execution_count": null,
   "metadata": {},
   "outputs": [],
   "source": [
    "# Aquí pido el input al usuario\n",
    "# Conversión a entero\n",
    "#Mostrar el resultado al usuario"
   ]
  },
  {
   "cell_type": "code",
   "execution_count": null,
   "metadata": {},
   "outputs": [],
   "source": [
    "print(\"hola\")"
   ]
  },
  {
   "cell_type": "markdown",
   "metadata": {},
   "source": [
    "## Comentarios en Python\n",
    "### Todo lo que esté después de un # es ignorado por Python\n",
    "* ¿Por qué comentar?\n",
    " -  Describir los pasos en una secuencia de código. Esto aporta legibilidad y claridad al código.\n",
    " -  Documentar el autor del código e información auxiliar\n",
    " -  Deshabilitar una línea de código (normalmente se hace temporalmente)"
   ]
  },
  {
   "cell_type": "markdown",
   "metadata": {},
   "source": [
    "```python\n",
    "# Obtener el nombre del archivo y abrirlo\n",
    "name = input('Enter file:')\n",
    "handle = open(name, 'r')\n",
    "\n",
    "# Contar la frecuencia de las palabras\n",
    "counts = dict()\n",
    "for line in handle:\n",
    "    words = line.split()\n",
    "    for word in words:\n",
    "        counts[word] = counts.get(word,0) + 1\n",
    "\n",
    "# Encontrar la palabra más común\n",
    "bigcount = None\n",
    "bigword = None\n",
    "for word,count in counts.items():\n",
    "    if bigcount is None or count > bigcount:\n",
    "        bigword = word\n",
    "        bigcount = count\n",
    "\n",
    "# Todo listo\n",
    "print(bigword, bigcount)\n",
    "```"
   ]
  },
  {
   "cell_type": "markdown",
   "metadata": {},
   "source": [
    "--------"
   ]
  },
  {
   "cell_type": "markdown",
   "metadata": {},
   "source": [
    "## Resumen del tema\n",
    "* Type\n",
    "* Palabras reservadas\n",
    "* Variables (mnemotecnia)\n",
    "* Operadores\n",
    "* Precedencia de operadores\n",
    "* División de enteros\n",
    "* Conversiones entre distintos tipos\n",
    "* Input del usuario\n",
    "* Comentarios (#)\n"
   ]
  },
  {
   "cell_type": "markdown",
   "metadata": {},
   "source": [
    "<br>\n",
    "<br>\n",
    "<br>\n",
    "<br>\n",
    "<br>\n"
   ]
  },
  {
   "cell_type": "markdown",
   "metadata": {},
   "source": [
    "---------\n",
    "\n",
    "<img src = 'data:image/jpeg;base64,/9j/4AAQSkZJRgABAQAAAQABAAD/2wCEAAkGBxQREhUSExMVFRUXGB4XGBcVGB0aFhoaFxkXFx8aGBkYKCghHRsmGxgXIjEhJSkrLi4uGB8zODMtNygtLisBCgoKDg0OFxAQGzIlHyUuLy0rLi43Ny0uLzAuNy0tLzMwLi83Ly8tMC0tLS0tMCswLy0tLS0tLS0tLS0tLS0tLf/AABEIAOEA4QMBIgACEQEDEQH/xAAbAAEAAwEBAQEAAAAAAAAAAAAAAwQFBgIBB//EAD0QAAICAQIEAwgBAwIFAgcAAAECABEDEiEEBTFBEyJRFDJSYXFykbGBBiNCFcEzYqHR4eLxQ1NjgpKio//EABoBAQADAQEBAAAAAAAAAAAAAAABAgYDBAX/xAA3EQABAwIFAQYEBAUFAAAAAAABAAIRITEDBBJBUWFxgZGhsfATImLBBRQyUkJy0eHxFTOCksL/2gAMAwEAAhEDEQA/ANXDw6aV8ie6Ow9J79mT4E/An3D7q/aP1JJZYEuMmqi9lT4E/Aj2VPgT8CSxCjUeVF7KnwJ+BHsqfAn4EliE1HlReyp8CfgR7KnwJ+BJYhNR5UXsqfAn4Eeyp8CfgSWITUeVF7KnwJ+BHsqfAn4EliE1HlReyp8CfgR7KnwJ+BJYhNR5UXsqfAn4Eeyp8CfgSWITUeVF7KnwJ+BHsqfAn4EliE1HlReyp8CfgR7KnwJ+BJYhNR5UXsqfAn4Eeyp8CfgSWITUeVF7KnwJ+BHsqfAn4EliE1HlReyp8CfgR7KnwJ+BJYhNR5UXsqfAn4EDhk+BPwJLEQoLjF1z3hj0H4ET1EqtZVbeH3V+0fqSSPD7q/aP1JJZZQ3KREQoSIiESIiESIiESIiESIiESIiESIiESIiESIiESIiESIiESIiSoNlgRESi1q28Pur9o/UkkeH3V+0fqSSyyhuV6xoWIABJJoAdSZ9yYWUAlSAbqx1o0fwZJwfEnE65Fq16X03BH+80uU6uIy4wwtMQbYDcjr/JLVC74OE3EhgJ1EwBFNq+GqVjERN3n2FnXHmdCjElXB23BIU/yP1PXF8uw6s+NEKviXUGLWG2DEEVt1iV0dkn6nBptETIJkFwptQGQSIIIWBPWHEzkKoLE9ANzNv/AErHr17+D4fidd/Sr9dUg/pk07k9kY7Gj/B7GJRuTcMVjHmNR24G/Ydj2rO4jhmxtpdSp9DIprY8GEo+dkYoCFVNfy3Oqukn/wBIx69VnwvC8XT/AJV6X9YlBk3uqyINb1gzBMgUMXieQsNELEACyTQA7kz66FSQRRBoj0Im5wnDYycObECo8XSyk6t9jYP0mfx2EvxLqOrZCPyxESqPyxbhh0ySQBFiCJB8eioxNPj8OJX8HHjYupADFupuiAtbV2k/MuWquI5BjONlItTkD2D613vtCHKvh5BB0zMTtcTESI5rSJ2xYnQcVy3DqzYlQh8S6gxaw2wYgituszeV8KuTxFN6gtp9V3r52IUvyeI14ZIJMinIoRUCs04OxVGJ0C8lQNisnSVY5aPSlBr5e8sp5sOJMGNzjJfJro6tIUo1Dat+0I/J4jAS4gQJrP08A/uA8eCs3LjKmmBBq6IrY9955nVDEq5M126+Dvv5q0rsCekz+A4BMivlGMsoIC4/EAPQEnWaiV2xMg4O0tP7qGZAbNaCtthNaArFiXOb8KuLJpU2pAI3BIvsSNrEtcx4XFi/taC2Xbz3QGrzUB32heY5dzS8OIGmh7awBEzMFZM+ohJAAsk0AO5M3jy3AcjcMA3iKL8QnYkLqrT6T5wHDYsZ4cuhZ8hsEGgtMANu8SuwyL9UOIiYJmxkAi15IiJHW5GFkQqSpFEGiPQifJ0TctDvmylS9ZCoUOE3vclj8iNplc34VcWTSptSARuLF9iRtYMSq4+UfhgvNpjzIHptJG4FFSiIkrxmywIiJRa1beH3V+0fqSSPD7q/aP1JJZZQ3KSzw/GtjR0Whrq23ulN0D2laIUteWmWmPf9Fbx8wcI2M+YMR1skFTd9ZKebOXyvQvKNLdaAoDbfrIOW8L4uVMZNajV/wT/tNHgOTnxWTKm/hkoNQ6ggXan9wvXgNzOIG6SYmAeDW9DFHG/JheeK4xU4ccOmTxLNlgpQAe9QvfrvKHBcYcRYqAdQ0m/Q/TvPWbl2RGVGWi3u7gg9tq2kjcqyIyhxpDmgwIYbkDsevyhQ45hzw4NI0w0X+XgSbX3O8leOB5gcSshUOjUSrDax3FdDJf8AWMnieJt006K8un0r0kfNOXNgYg+7ZCmxuB3odJ8wcrzOmtVsb9CO2xpbuEH5ph+C2ZbWALR2CY4uKqTPzVjoCqMaobVQLF+pvrK/F8UXyHJQUk9th9fre8gxoWIABJOwA6mXM3KsqFVKeZtgAQTY+h2hcy7HxWk1IkTxNh0HAiFLk5wWOvw0GQf5i7J+a3W/eeeL5qXRkGNUDm2IuzW/cyLi+W5MVa1rUaBBFX6WO8nPIeIH/wAP/wDZdvrvtC6k5t+ppDjz8vPYN+bkcr43NnOTJl0i8ilT1qqA2+e0p8HxJxOrr1U3v09KPyqT/wCl5fE8LR566WPrd9KnziOWZUKhlrUfLuDZO1bbQqO/ME6yDQ3iziZPfPmpH5vkK5V2rLu3qPl9KAEr5+KLomMgUlgV18xs3Pr8E48Ty/8ADrXuNtRr+d/SW+ZcnbEAw8yEKb2vzdvWEIzD2uLpIAg9kk+GoEnqKwvg5y/iHIVBtdLKQaIqt955x80rV/bQ42onGboEbWDdg/OR8TyrLjXWyUvfcGr6WBv+YzctyIniMtLseovfptdxCu5+bBMzSppzcmljxbkSoOJyBmJChB8I6D8y3m5qXWnxqzAUMhB1UPkD1+ch4Pl2TLehdQHUkivpZ7z3g5Vme9KA0SCNS3Y6gAneFRgzFSwH5uBIMd0UraOkKdueOQTpUZCKOQDzEdPpfznjhOblFVSivpNoSD5b32IPS5FwvK8uSyi+71sjb5eYjeVs+FkYqwIYdQYVnY+aaBiOJG0kU54gmRNZMi6vY+bMC+pFdchtlINX6juJS4nIGYsFCA/4joNq7yOIXB+M940uM++b72t0SIiSuJssCIiUWtW3h91ftH6kkjw+6v2j9SSWWUNykREKFc5NnGPPjdtlHU/UEf7zQ4JUwZMl5UYNjcAg2LsbH5mYcQvTg5j4YFJgyPAA+gW1wuXEcfDJkI0q2TWPQE7dPnUtcVxSY8aC8drl1acdkUAdzff/AMTm4ghdGZ1zG6Q0TAE70AH2ntJWlzzEviNlXIrhySADuB13HaanJsmFBjcHGKB1lidYO427VOZiIUYebGHjHFDBWscGZMHqfW6v8m4pcedXb3QTv6WCL/6y5wONOGyhmzKwYMNSk2tjYle3X9zEk2DhWdXYdEHm+jGoVcDHc3SGtkg6h0tPaIHdstUlMGEYvEV2bIG8psLW9k+pnrPxSFuMphT6dP8AzaT2mFEQpOboGhoAFAK0EObf/kT/AGXU8FnV8uIBgaxMG+RAO38SmuZMGJMfiDIRlD+U2ABXf1MxsGdkOpTRqr+R6zxkxlTTAgjsRR/BkQurs8S2Q35q12AOkeene23ToOMOMLxTDKjeNpKgHfZt7HbrPPF5U14+JDqQgQFb89g0ZgT5JhUdndX8I87gl0+LjThdJzXiRoyNjbEQ9XWrxCCfQnapnc9zK7oVINItkeoBsSnwnDNkcIu7N07dr/2kJFbRCY+afitMiAY8RJp/29mStfhdObhxg8RcbKxPmNAg/P1Et8qXEgQhsWtWOtnLXsdin8TnYhRh5vQ5riwEgAT0FuwjkXEjdbXH8Shw5lDAlsoKj1F9vlK/Ps6vl1KQw0qLHqF3mbEKmJmnYgIIFY8tR/8ARSIiF5kiIkqDZYEREotatvD7q/aP1JJHh91ftH6kkssoblIiIUJERCJERCK/wOFW4fiGIBZRj0n0tiDNTDwWI5cA0AhsOojsTTbn8TE4PjHxElDVijsCCPQg7SVua5i4ya/MBQpVoDfaqruYIXvwMxgMa3W2SImg2cXXncHTHRaC8MnEJifQMZbIUIW9xXUA9D2k3jL4fFIuIJorpdkaq3vvt/1mEvFNoCX5QdQHoaq76yzn5xmdSjOCGFN5V3r1IEhXZm8MNkiHEVIAqdJHSKw6RfwWy/CYMdY3KAFQS1trs76vSr7TOYrj4bG3hqzZNYZiTY0tQI32/wDErJzXKE0axQG3lUkD0Fi5WycQzIqE+VL0ihtq3O/WTCjGzWEZ+G2DBAoKVb1NAAYMA1WvzLGjYS2BUKALZ38RTffUehMm52/icX4K41LWpsk+byg0f49PSZXEc1zOpRmGk9fKq3XqQJ9yc2ynTeTdSCDpW7GwvaztIVsTNYTpAkA6Zo3bVIFTFHCskiDstPj+FxnGHATUMmn+3qqiL31d/nPvGYMbniMYxBfCAKsCb7bNvvMriOa5XADHYG6CqNx3NCRtzDIS7at8g8+w3A/X8RCPzeCSYbe9AJo7qdy09y6DgQmLPgxDGCWXUchu7Kltu1bVOYyDeXeH5zmQBVcUvu7KSPoSJXfjHKDGT5QSQKHe+/8AJkhcsxjYeIwNEiJIEClGiKHoTqNeigiIheFIiIRIiIRIiJKg2WBERKLWrbw+6v2j9SSR4fdX7R+pJLLKG5SIiFCGbPE4cPD6UfF4uQgFjrKhb7fP+ZjTcbi8OZkyPkONxQYadStXcV0uF68tph1tVI1RETX9VJtfaVRwcB4pdlIx41PVzsL6b9zPR5Pk8QY9iTuGvy16/SW83H4svjIzlVdw6sBe6iqK9aqe/wDVsYcLucQxHFqrffe6+o6SF6Bg5WmpwvcGJqaRWBEGbV8KHE8qZdJUjIr7Kyna/wDYy9j5WMWLiNTK7ADYHdDq37bTynMceFcaYycunJ4jNWkbbUAflPuXisKpnKZCTlqlKkaabVueneFZjMs2XAiYM/NQS02P8daUJIWdy7gDm1UwULuxJoAfxJW5Q4dEBDeJ7jA2p09d/lUn/p8ArxAY0ugWQLoX1rvJsHMsWN+HVWLJiLanIonX6L6SVzwcDBOHhuxKTvP1wacRJ1bRW6pjlBL6VyIwAJZg2ygbbkiec/KnDIFpxk9xlOxrrv2qeuWcWinKj2Ey/wCQFlaNg13EuYOPXG2DHhBy6CSTVFi4IoDtsYUMw8s9oJpJ2MkfMBAbvLZM1M06KlxnKTjRsmtHCmm0kki+3SfeL5OcRVWyJqsAje1+Z26TQ5jwy4+FyBVddTrQcAHY3sB2A7ytxHH4m4zxiC2Oxdj0Wuh9Dv8AxCvi4GDhuDXAAnTuYEl8nkxpbcC8mFW4jlRUIVdXVzpDL0v0PpLD8gYav7qUhpzZ2Pz2ljieZoVRfEOQrk1E+HooDtQ6mV+I49D7VRP90oU2+E2b9NolHYeUbO9LarQ0nYm5AFzdRDkr+L4Vi61ar2I+Rko5Cx01lSn9w2fMfQbSwvNcepWs0MHh9O9fqVcHHIF4YG7xMxbbszhtvXYRJU/DybSRfvsJaI8CTPRQcNyxm1FmGNVNamO1+g9TPeLk7l3Q6V0bsx6Ue4I7TQxc4SsiBzjBya1fQH2O1FZWHMhefVkL6kCq2nTf8Dp3hR8LKDTWamTI+ql5G1QB/MZpEnJzRY5UC3QYk0xq/SZpmvyXi0xrT5qUnzYjj1Bh93YzJykFiVFDeh6C9hC8uM3C0McyhNxMn1oNqgHmbrzERC8yRESVBssCIiUWtW3h91ftH6kkjw+6v2j9SSWWUNykXBnW4sWNz4xG2VBj7bObU7dqr/rC9OVyxxyQDEela9xgd65GT4sGpXbUBprYnc6tth3nRcNiCZceIgE48batgfMw1fzW0zsHEHLg4p3IZgMdEV8R6VC6OygZ+o1h1I3a3UazsaW57Dm8Tw7YzpYUdtvl26SGdPzRmbLjxt/wiEs0Pl/l/wCY5zkQLlRr2K6F8LToojow6giJXTFyLWnEIdAaYr2TzxYgVO265mfNU1+SrWPNkVQ2RAukEdASbr1IEs8Nkfw82bSDmBX/ABFqCPeAqtx3qFwZldTWum4JtNGz1EmlBxWVgq5F0SL60ev1k7cIRiGWxRYrXewLudGvDKcqMUHinEX0VsXHQ16kXt8pCScuLD4w65je1bV3Ar6SJXoGQjUHGTBi4/betP1Wr20XMyfFhYhnUbJRJuq1Gh/1nQc5dAuVGu7Gj+1p0UegYdbEpciyMuLiCnvDQQKv/I3seu0mVyOUDcYYZdNCaXETtJ3HNbUNqL4GbF47PY1aaJJPS+p7SpOgXjXx8KXBAY5TYIFdLOxk2fhdGfO6MEVdN+QOfOAdlPTfvEq78oHaS0mwJ5qHGau+kyJpyVz3D8Oz3pF6QSfkB1O8iUWQPWdcq6czslW2AtVVZ+nzobTmc2RmyW+zH/7fTsIlc8zlRgtFZMkdKHyptXtXzj+GOLI2MkErsSPmAf8AeQTq+NyeJk4rEwBVE1L5RtQVuvXvPGDBefhSBanHue16W6/PpEru/wDDwcQhhpqi1R8+jc7efRctE6Lg85x4MZWrbKQ1gGx6byTj2DDisZA04tBSgAVs77iJXL8kNAdqrExH0l954BrF1zMap1gwVjyYsjayuIkDQAFIAoh+pM88NmpuGxaQUyKdYIBu73vrEq/+nmQC6LbC5IbFHEXN55ETRcrqn2dHysWvgodD6jTFNYcb7EkbVU511okHsa/ELyY2B8NrXTM+R4vO+4GxEr5ERJXnNlgRESi1q28Pur9o/UkkeH3V+0fqSSyyhuUknitQGrYHYXsD6j5yOIQEiylHEPqLajqPVrNm/UzwuQgEAkA9QDsa6X6zzElNR59m/jupm4tyuguSg/xJNfiesvHZGXQ2RivobI2lr/TkTGr5s3hl90UKWNDob7XPXBcrXKlrkOujsU8v/wCXS5C9TcHHcdANSLahMbAietjys/DmZDqVip9boyQcdk1a/EOo7arN/SXOF5UjJiLZdJykhBoJFqdO5v1r8yn7IfG8I7HVpJ676quFQ4eMwNMwCREHc1FAaEiDt0UZzsW16jqu9Vm7+s98RxmTJQdywHSzcsvyyvG83/Brt71tX8S0ORqdKDL/AHGTUF0HcEXWq+uxhXblswZaN7iYmpbzUkggXJWbl47Iy6WyMV9CxI2njBnZDaNpPqpqX+A4Fax5MmXRrPkXSWJ0sBZroL2lnjeXeJnzuzlUUgE0WsmqAAhWGBjOAfPzSIrUCC6ZmW0G8XWNk4hmBBYkE2QSTfaz85InHZAxcOwY7E2bP1Mvjkf93SXpdHiBtJsgf8vUH5Tzh5YjK+QZScakbjGSbrut7V6woGXzIPB/mE0qTfab+BVE8ZkLa9Z1D/Kzf5njPmZ21MxZvUmzNXBwmI8OWZ9NZKD6SSdrA0DpfWQ8u5YuYAByHNgDwyV29W6C4UfAxnaWh06hqjV3bmp4NZ2JhUTxL2x1G2FMbNkeh9RPeHjsiDSrso9ASBLfC8sQ4xkyZNFsVA06unqQekJyimyjI4RcRUM2m7LdAB84RuDmKOEieo3BdWsigJMxMFZ/jtQGrYHYXsPn9Z6PEsdVsfN7258319Zp/wBQKAvDhTqGg0aq9+tdpHh5qFRVCe6joDffIQSf4A2EIcIMxHYb8SAIrU3A4OwJ39Sqnt+XTo1tpqqs1Xp9JGOJbynUbX3dz5f+0iiF5ziPNyfFWcfH5VBVXYA9gTW/WVhEQoc9zokkxaUiIkqhssCIiUWtW3h91ftH6kkjw+6v2j9SSWWUNykREKEiIhFqHjsWXGi5lbUgpSpFEdtQPpLmDniBVJ1AqmnSGGg7Vdes5+IXsZnsVhkRNNrxaeY285Wji5gFXh1o/wBktfz1G9pBxPF3mOVRVtqAP11byrELg7HeWhpNBHkNI8gtnieaYiuXSrB8unVbAgFTe3f1hOcqM2PLp2RApG1khWF/TeY0RC7HO4szQWNBwS7zJJPK1OD4/EExplVj4V6GUi6beiPrJ8XOxry2G0ZDflamUj0MxIiFDc7itDQCKdOkV7qewtZeaquR28xBUoNR3s979PlPHJ+Mx4rYlw1/4Gr+o7zMiIUDN4msPpIkjv8A8LYHNMbrkTIhCs+oaCAQaqt+1SbgedogSw48MEBVYaWu9yPWYMRCu3P4zSHAieYHM17Db7q9k44HEuOjYcm+1HtLWTmyO+bWpOPKVNAgMNIFEdu0x4hcxmsQeW3ALY8CQtbiePwu2MFGONF00SASexsTJiIVMXGdiGXR3COB5RRIiIXJIiIRIiJKg2WBERKLWrbw+6v2j9SSR4fdX7R+pJLLKG5SIiFCREQiREQiREQiREQiREQiREQiRJOHxFyAPyegA3N/IAEyyvLHLIoo+IPKenTufTajXzELozCe8S0Tt9vU+yqUSYcM9agpK3VgGrutj9ZIeX5KsqRuB0N2a7fj8woGE82afBVYk2ThmA1aTpug1Gj1Hf6T37KNIfULYWq0bO5HbbqD3hPhutHXu+/dfaVWiSvwzg0VYHbt9a/NH8T1j4UkMxsBR3HUgqPzZElNDpiFBEn9iyXWg3XT5dL/ADPHg+TXfeq/i/8Av+JCfDeLg+lrqOIiSuZssCIiUWtW3h91ftH6kkjw+6v2j9TpOUZ8GPGMjYzqs1fmBYKDt2F2O38yyzeBgjFeWlwaKmT7+4Wfy/kubNuFpfiPT+O5/ibGT+kfJ5cvn72ux/G4+u8204fKd3y1/wAuMCh8tRFn67SQ8D/9TJ+R+iKkStBg/hWC1sOaXHkmPAA076rg+O5bkwnzoQPUbj8iVJ3/ABPiYlLlxkQC2DKA3zoih07EbzlOd5uHY/2U37nsfov/ALSV8rO5BmBVro+l1+4iZ9yVlxEQvmJERCJERCJERCJANbxEIrWLiL8Qud2XYgdwQenbYEfzLJ5sdV6RV3XcCqAv5ED8TMiF2bmMRtj7kmvitNeZKCCE38nf4ARXToTTfxIOH4oKE8vmTVW43Ldz3sED8SnEKTmcQmvoOQfUAq3n4vUrKBV6R1+AH9mjJF5kQ6nfQoHlv0Wtu12SZQiSo/MYkyD7BJ+9loYeZaFpV2ApLO4ItrPruzH8ekkHNfMfJtalVvpTEkHbeySfr9ZlxIVhmsUAAG1vPyrboOFc4ji7V1A2Nab2oAknYAD3iD/EjzZRoXGN+7H5kAUPkAPzK8SVR2K5xJO9O6Zj3tRIiIXE2WBERKLWrbwe6v2j9TSbiMfgBKPiBtV7ad9q6+gHaZuH3V+0fqe2lllg8s1RuCF1a/1Y5BI4ewOpDkgfXyzyP6wP/wAj/wDp/wCmXeWchVFDDI/mAJo0DYvfvJx/TuAVpQqR0YM1/uQtIML8ScAfiAc0b5Q3+nasbmH9SM2NkbBo1giy56Ha6Ki5zk7Dj/6aV9Ta3ZqNaiDZo0L+s48SV8n8RZmGvBxjN9NrDs7UiIhfOSIiESIiESIiESIiESIiESIiESIiESIiESIiESIiSoNlgRESi1q28Pur9o/UknjCPKv2j9T3Ussm4iSup/p/n6hVxZTVbK3auwb0+s6XJmVV1FgF62Tt+Z+Y1HykQvr5f8axMNmhwDosZjxvPkul5j/UgbIgx3oU2T3btsPSYPG5A7llFBu3oTvt8usgqKkrwZjO4mP/ALh3ns2p0jzqkRUVC82oJEVFQmoJEVFQmoJEVFQmoJEVFQmoJEVFQmoJEVFQmoJEVFQmoJEVFQmoJEVFQmoJEVAEKCRCwIiJVayVWx9B9J9iJK8y+xEQiT5EQiREQiREQiREQiREQiREQiREQiREQiREQiREQiREQiT7EQoKgiIhfeX/2Q=='>\n",
    "\n",
    "\n",
    "\n",
    "\n",
    "----------"
   ]
  },
  {
   "cell_type": "markdown",
   "metadata": {},
   "source": [
    "\n",
    "<h1 align=center style=\"font-size:3.5vw\"><span style=\"color:#ff585d\">Reto 1: Nombrando Variables</span></h1>\n",
    "\n",
    "Los siguientes fragmentos de código incluyen nombres de variables que causan un error. ¿Qué está mal y cómo lo corregiríamos? ¿Hay alguna otra pauta que no se cumpla con los nombres de las variables?\n",
    "\n",
    "Para poder ayudarte mejor, necesitaría que proporciones los fragmentos de código con los nombres de variables problemáticas para poder analizar y proporcionarte una solución específica."
   ]
  },
  {
   "cell_type": "code",
   "execution_count": null,
   "metadata": {
    "scrolled": true,
    "tags": []
   },
   "outputs": [],
   "source": [
    "1a = 'Vichada'\n",
    "b2 = 'Puerto Carreño'\n",
    "print('La capital de', a1, 'es', b2) \n",
    "\n",
    "\n"
   ]
  },
  {
   "cell_type": "code",
   "execution_count": null,
   "metadata": {
    "deletable": false,
    "editable": false
   },
   "outputs": [],
   "source": [
    "grader.check(\"q0_1\")"
   ]
  },
  {
   "cell_type": "code",
   "execution_count": null,
   "metadata": {
    "scrolled": true,
    "tags": []
   },
   "outputs": [],
   "source": [
    "Una_variable = 22\n",
    "otraVariable = 42\n",
    "print(una_variable * otravariable)\n",
    "\n",
    "\n"
   ]
  },
  {
   "cell_type": "code",
   "execution_count": null,
   "metadata": {
    "deletable": false,
    "editable": false
   },
   "outputs": [],
   "source": [
    "grader.check(\"q0_2\")"
   ]
  },
  {
   "cell_type": "markdown",
   "metadata": {},
   "source": [
    "<h1 align=center style=\"font-size:3.5vw\"><span style=\"color:#ff585d\">Reto 2: Nombrando Variables</span></h1>\n",
    "\n",
    "\n",
    "En este  ejercicio, como hacer conversiones de tipos de variables en Python. ¡Vamos!"
   ]
  },
  {
   "cell_type": "markdown",
   "metadata": {},
   "source": [
    "Necesitamos usar pi en este cálculo, ¿cómo podríamos solucionar este error? 🥧"
   ]
  },
  {
   "cell_type": "code",
   "execution_count": null,
   "metadata": {
    "scrolled": true,
    "tags": []
   },
   "outputs": [],
   "source": [
    "pi = '3.14'\n",
    "radio_circulo = 3\n",
    "area = pi * radio_circulo**2\n",
    "print('el área del circulo de radio 3 es:',area)\n",
    "\n",
    "\n"
   ]
  },
  {
   "cell_type": "code",
   "execution_count": null,
   "metadata": {
    "deletable": false,
    "editable": false
   },
   "outputs": [],
   "source": [
    "grader.check(\"q0_3\")"
   ]
  },
  {
   "cell_type": "markdown",
   "metadata": {},
   "source": [
    "<h1 align=center style=\"font-size:3.5vw\"><span style=\"color:#ff585d\">Reto 3: Aplicación praćtica</span></h1>\n"
   ]
  },
  {
   "cell_type": "markdown",
   "metadata": {},
   "source": [
    "## Ejercicio  1\n",
    "\n",
    "Juan era un trabajador incansable en una pequeña empresa. Decidido a cobrar su merecido salario, creó un programa para calcularlo. Ingresó 42.5 horas y una tarifa de 2000 por hora. Al final, el resultado fue claro: ¡Juan recibiría 85000, justo lo que esperaba! Su esfuerzo valió la pena y su bolsillo estaba más que satisfecho.\n",
    "\n",
    "Escriba el código en python que escribió Juan"
   ]
  },
  {
   "cell_type": "code",
   "execution_count": null,
   "metadata": {
    "scrolled": true,
    "tags": []
   },
   "outputs": [],
   "source": [
    "...\n",
    "print('tu salario es', salario)\n",
    "\n"
   ]
  },
  {
   "cell_type": "code",
   "execution_count": null,
   "metadata": {
    "deletable": false,
    "editable": false
   },
   "outputs": [],
   "source": [
    "grader.check(\"q0_4\")"
   ]
  },
  {
   "cell_type": "markdown",
   "metadata": {},
   "source": [
    "## Ejercicio  2\n",
    "\n",
    "María, entusiasmada por su próximo viaje, necesitaba cambiar sus pesos colombianos a dólares. Creó un programa para facilitar el proceso. Ingresó 4,000,000 de pesos y el precio de venta de 3,650 por dólar.\n",
    "\n",
    "El resultado fue satisfactorio: ¡María adquirió 1,095 dólares! Además, recibió una devuelta de 3,250 pesos, lo cual la dejó aún más contenta. Ahora estaba lista para disfrutar de su viaje con su nueva moneda en mano.\n",
    "\n",
    "Escriba el código en python que escribió JMaría"
   ]
  },
  {
   "cell_type": "code",
   "execution_count": null,
   "metadata": {
    "scrolled": true,
    "tags": []
   },
   "outputs": [],
   "source": [
    "...\n",
    "print('Cambiaste un total de', total_dolares_cambiados, 'y te devolvieron un total de ', cambio,'pesos')\n"
   ]
  },
  {
   "cell_type": "code",
   "execution_count": null,
   "metadata": {
    "deletable": false,
    "editable": false
   },
   "outputs": [],
   "source": [
    "grader.check(\"q0_5\")"
   ]
  },
  {
   "cell_type": "markdown",
   "metadata": {},
   "source": [
    "## Ejercicio  3\n",
    "\n",
    "Escribir un programa que convierta 96.8  grados Farenheit  a grados centígrados.\n",
    "\n",
    "\n",
    "psss... podría ser útil buscar la formula"
   ]
  },
  {
   "cell_type": "code",
   "execution_count": null,
   "metadata": {
    "scrolled": true,
    "tags": []
   },
   "outputs": [],
   "source": [
    "\n",
    "fahrenheit = 96.8\n",
    "...\n",
    "print(fahrenheit, 'grados farenheit son', centigrados, 'centígrados')\n",
    "\n"
   ]
  },
  {
   "cell_type": "code",
   "execution_count": null,
   "metadata": {
    "deletable": false,
    "editable": false
   },
   "outputs": [],
   "source": [
    "grader.check(\"q0_6\")"
   ]
  },
  {
   "cell_type": "markdown",
   "metadata": {},
   "source": [
    "## Ejercicio taller 4 \n",
    "### El IVA\n",
    "\n",
    "Un cajero de un almacén de ropa tiene que ingresar por separado el valor del producto y el valor del IVA en el datáfono.\n",
    "\n",
    "Escriba un programa que reciba el valor total y le entregue el resultado segregado.\n",
    "\n",
    "Un ejemplo de lo que podría resultar es:\n",
    "\n",
    "Inserte valor total: 250000  \n",
    "\n",
    "Valor del bien: \\*\\*\\*\\*\\*\\*   \n",
    "Impuesto: \\*\\*\\*\\*\\*\\*\n"
   ]
  },
  {
   "cell_type": "code",
   "execution_count": null,
   "metadata": {},
   "outputs": [],
   "source": [
    "\n",
    "\n",
    "\n"
   ]
  }
 ],
 "metadata": {
  "kernelspec": {
   "display_name": "Python 3 (ipykernel)",
   "language": "python",
   "name": "python3"
  },
  "language_info": {
   "codemirror_mode": {
    "name": "ipython",
    "version": 3
   },
   "file_extension": ".py",
   "mimetype": "text/x-python",
   "name": "python",
   "nbconvert_exporter": "python",
   "pygments_lexer": "ipython3",
   "version": "3.9.12"
  },
  "otter": {
   "OK_FORMAT": true,
   "tests": {
    "q0_1": {
     "name": "q0_1",
     "points": null,
     "suites": [
      {
       "cases": [
        {
         "code": ">>> assert departamento =='Vichada'\n>>> assert capital == 'Puerto Carreño'\n>>> \n>>> \n",
         "failure_message": "Psss... no te desánimes, pregúntate, qué error tiene la primera variable y luego ¿son unos buenos nombres de variables?",
         "hidden": false,
         "locked": false,
         "success_message": "Buen trabajo!"
        }
       ],
       "scored": true,
       "setup": "",
       "teardown": "",
       "type": "doctest"
      }
     ]
    },
    "q0_2": {
     "name": "q0_2",
     "points": null,
     "suites": [
      {
       "cases": [
        {
         "code": ">>> assert una_variable ==22\n>>> assert otravariable == 42\n>>> \n>>> \n",
         "failure_message": "Psss... no te desánimes, recuerda que las variables son sensibles a las mayúsculas y minúsculas",
         "hidden": false,
         "locked": false,
         "success_message": "Buen trabajo!"
        }
       ],
       "scored": true,
       "setup": "",
       "teardown": "",
       "type": "doctest"
      }
     ]
    },
    "q0_3": {
     "name": "q0_3",
     "points": null,
     "suites": [
      {
       "cases": [
        {
         "code": ">>> assert area ==27\n>>> \n>>> \n",
         "failure_message": "Necesitas convertir el tipo de dato String (str) a Integer (int)",
         "hidden": false,
         "locked": false,
         "success_message": "Buen trabajo!"
        },
        {
         "code": ">>> assert type(pi) ==str\n",
         "failure_message": "No cambies la variable pi ¡Es trampa!",
         "hidden": false,
         "locked": false,
         "success_message": "Buen trabajo!"
        }
       ],
       "scored": true,
       "setup": "",
       "teardown": "",
       "type": "doctest"
      }
     ]
    },
    "q0_4": {
     "name": "q0_4",
     "points": null,
     "suites": [
      {
       "cases": [
        {
         "code": ">>> assert salario==85_000\n>>> \n>>> \n",
         "failure_message": "Tu salrio debería ser de 85 mil, recuerda multiplicar las variables",
         "hidden": false,
         "locked": false,
         "success_message": "Buen trabajo!"
        }
       ],
       "scored": true,
       "setup": "",
       "teardown": "",
       "type": "doctest"
      }
     ]
    },
    "q0_5": {
     "name": "q0_5",
     "points": null,
     "suites": [
      {
       "cases": [
        {
         "code": ">>> assert total_dolares_cambiados==1095\n>>> \n>>> \n",
         "failure_message": "La casa de cambio no da centavos, sería bueno convertir el total de dólares a int",
         "hidden": false,
         "locked": false,
         "success_message": "Buen trabajo!"
        },
        {
         "code": ">>> assert cambio==3250\n",
         "failure_message": "Si tienes problemas sacnado el cambió intenta utilizar el operador modulo 😁",
         "hidden": false,
         "locked": false,
         "success_message": "Buen trabajo!"
        }
       ],
       "scored": true,
       "setup": "",
       "teardown": "",
       "type": "doctest"
      }
     ]
    },
    "q0_6": {
     "name": "q0_6",
     "points": null,
     "suites": [
      {
       "cases": [
        {
         "code": ">>> assert centigrados==36\n>>> \n>>> \n",
         "failure_message": "Revisa bien la formula deberías obtener 36 grados centígrados",
         "hidden": false,
         "locked": false,
         "success_message": "Buen trabajo!"
        }
       ],
       "scored": true,
       "setup": "",
       "teardown": "",
       "type": "doctest"
      }
     ]
    }
   }
  }
 },
 "nbformat": 4,
 "nbformat_minor": 4
}
